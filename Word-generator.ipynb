{
 "cells": [
  {
   "cell_type": "code",
   "execution_count": 1,
   "metadata": {},
   "outputs": [
    {
     "name": "stderr",
     "output_type": "stream",
     "text": [
      "Using TensorFlow backend.\n"
     ]
    }
   ],
   "source": [
    "%matplotlib inline\n",
    "from keras.models import Sequential\n",
    "from keras.layers import Dense, Activation, Dropout\n",
    "from keras.layers import LSTM\n",
    "from keras.optimizers import RMSprop\n",
    "from keras.utils.data_utils import get_file\n",
    "from sklearn.preprocessing import MinMaxScaler\n",
    "\n",
    "import pandas as pd\n",
    "import numpy as np\n",
    "import gc\n",
    "import keras\n",
    "import matplotlib.pyplot as plt\n",
    "import jieba\n",
    "import os\n",
    "os.environ[\"CUDA_VISIBLE_DEVICES\"] = \"\"\n",
    "\n",
    "plt.rcParams['figure.figsize']=(20, 10)"
   ]
  },
  {
   "cell_type": "code",
   "execution_count": 10,
   "metadata": {},
   "outputs": [],
   "source": [
    "def data_generator(sentences, sortedcharset, char_indices, maxlen=40, batch_size=256):\n",
    "    if batch_size<1:\n",
    "        batch_size=10    \n",
    "    number_of_batches = len(sentences)//batch_size\n",
    "    counter=0\n",
    "    shuffle_index = np.arange(len(sentences))\n",
    "    np.random.shuffle(shuffle_index)    \n",
    "    #reset generator\n",
    "    while 1:\n",
    "        index_batch = shuffle_index[batch_size*counter:batch_size*(counter+1)]\n",
    "        subsentences = [sentences[s] for s in index_batch]\n",
    "        X = np.zeros((batch_size, maxlen, len(sortedcharset)), dtype=np.bool)\n",
    "        y = np.zeros((batch_size, len(sortedcharset)), dtype=np.bool)\n",
    "        for j, sentence in enumerate(subsentences):\n",
    "            for t in range(maxlen):\n",
    "                char=sentence[t]\n",
    "                X[j, t, char_indices[char]] = 1\n",
    "            y[j, char_indices[next_chars[j]]] = 1        \n",
    "        X = X.astype('float32')        \n",
    "        y = y.astype('float32')       \n",
    "        counter += 1\n",
    "        yield((np.array(X), np.array(y)))\n",
    "        if (counter < number_of_batches):\n",
    "            np.random.shuffle(shuffle_index)\n",
    "            counter=0\n",
    "            \n",
    "def sample(preds, temperature=1.0):\n",
    "    # helper function to sample an index from a probability array\n",
    "    preds = np.asarray(preds).astype('float64')\n",
    "    preds = np.log(preds) / temperature\n",
    "    exp_preds = np.exp(preds)\n",
    "    preds = exp_preds / np.sum(exp_preds)\n",
    "    probas = np.random.multinomial(1, preds, 1)\n",
    "    return np.argmax(probas)            "
   ]
  },
  {
   "cell_type": "code",
   "execution_count": 7,
   "metadata": {},
   "outputs": [
    {
     "name": "stdout",
     "output_type": "stream",
     "text": [
      "2904\n",
      "273.0617760617759\n",
      "nb sequences: 23561\n"
     ]
    }
   ],
   "source": [
    "np.random.seed(82832)\n",
    "file_path = \"/data1/home/weisting/Word-Generator/1.txt\"\n",
    "\n",
    "fileopen = open(file_path, encoding='utf-8')\n",
    "with fileopen as fo:\n",
    "    alltext0 = fo.readlines()\n",
    "    \n",
    "alltext = open(file_path, encoding='utf-8').read()\n",
    "print(len(set(alltext)))\n",
    "\n",
    "# 按照單個字來建模，先把所有字符抽出來\n",
    "sortedcharset = sorted(set(alltext))\n",
    "char_indices = dict((c, i) for i, c in enumerate(sortedcharset))\n",
    "indices_char = dict((i, c) for i, c in enumerate(sortedcharset))\n",
    "\n",
    "#現在把原文按照指定長度劃分為虛擬的句子。這個指定虛擬句子的長度一般使用平均句子的字數。\n",
    "sentencelength = 0\n",
    "k=0\n",
    "for line in alltext0:\n",
    "    k=k+1\n",
    "    linelength = len(line)\n",
    "    sentencelength = (k-1)/k * sentencelength + linelength / k\n",
    "print(sentencelength)  \n",
    "\n",
    "maxlen = 40\n",
    "step = 3\n",
    "sentences = []\n",
    "next_chars = []\n",
    "for i in range(0, len(alltext) - maxlen, step):\n",
    "    sentences.append(alltext[i: i + maxlen])\n",
    "    next_chars.append(alltext[i + maxlen])\n",
    "print('nb sequences:', len(sentences))"
   ]
  },
  {
   "cell_type": "code",
   "execution_count": 11,
   "metadata": {},
   "outputs": [
    {
     "name": "stdout",
     "output_type": "stream",
     "text": [
      "Build model...\n",
      "Finished compiling\n",
      "_________________________________________________________________\n",
      "Layer (type)                 Output Shape              Param #   \n",
      "=================================================================\n",
      "lstm_2 (LSTM)                (20, 256)                 3236864   \n",
      "_________________________________________________________________\n",
      "dense_2 (Dense)              (20, 2904)                746328    \n",
      "_________________________________________________________________\n",
      "activation_2 (Activation)    (20, 2904)                0         \n",
      "=================================================================\n",
      "Total params: 3,983,192\n",
      "Trainable params: 3,983,192\n",
      "Non-trainable params: 0\n",
      "_________________________________________________________________\n",
      "WARNING:tensorflow:From /data1/home/weisting/.pyenv/versions/3.6.8/lib/python3.6/site-packages/tensorflow/python/ops/math_ops.py:3066: to_int32 (from tensorflow.python.ops.math_ops) is deprecated and will be removed in a future version.\n",
      "Instructions for updating:\n",
      "Use tf.cast instead.\n",
      "Epoch 1/5\n",
      "1178/1178 [==============================] - 236s 200ms/step - loss: 3.2056\n",
      "Epoch 2/5\n",
      "1178/1178 [==============================] - 247s 210ms/step - loss: 2.8582\n",
      "Epoch 3/5\n",
      "1178/1178 [==============================] - 261s 222ms/step - loss: 2.8575\n",
      "Epoch 4/5\n",
      "1178/1178 [==============================] - 257s 219ms/step - loss: 2.8573\n",
      "Epoch 5/5\n",
      "1178/1178 [==============================] - 254s 216ms/step - loss: 2.8572\n"
     ]
    },
    {
     "data": {
      "text/plain": [
       "<keras.callbacks.History at 0x7eff83886e80>"
      ]
     },
     "execution_count": 11,
     "metadata": {},
     "output_type": "execute_result"
    }
   ],
   "source": [
    "#生成這兩個矩陣的操作移入數據生成器中，這樣無需產生大量數據等待輸入GPU，而是每次只取所需並生成相應的矩陣並即刻輸入GPU運算即可。\n",
    "# build the model: a single LSTM\n",
    "batch_size=20\n",
    "print('Build model...')\n",
    "model = Sequential()\n",
    "model.add(LSTM(256, batch_size=batch_size,  input_shape=(maxlen, len(sortedcharset)), recurrent_dropout=0.1, dropout=0.1))\n",
    "#model.add(Dense(1024, activation='relu'))\n",
    "#model.add(Dropout(0.25))\n",
    "model.add(Dense(len(sortedcharset)))\n",
    "model.add(Activation('softmax'))\n",
    "\n",
    "#optimizer = RMSprop(lr=0.01)\n",
    "adamoptimizer = keras.optimizers.Adam(lr = 1e-4)\n",
    "model.compile(loss='categorical_crossentropy', optimizer=adamoptimizer)\n",
    "print('Finished compiling')\n",
    "model.summary()\n",
    "\n",
    "model.fit_generator(data_generator(sentences, sortedcharset, char_indices, maxlen=maxlen, batch_size=batch_size), \n",
    "                    steps_per_epoch=len(sentences)//batch_size, \n",
    "                    epochs=5)"
   ]
  },
  {
   "cell_type": "code",
   "execution_count": 12,
   "metadata": {},
   "outputs": [
    {
     "name": "stdout",
     "output_type": "stream",
     "text": [
      "出於黃帝。當高陽世，陸終之子曰安，是為曹姓。周武王克殷，存先世之後，封曹俠於邾。\n",
      "=================\n",
      "後 。 是 殷 秋 秋 殷 後 終 世 是 ， 曹 黃 沈 曰 當 秋 秋 沈\n"
     ]
    }
   ],
   "source": [
    "start_index=50\n",
    "sentence = alltext[start_index: start_index + maxlen]\n",
    "sentence0=sentence\n",
    "x = np.zeros((20, maxlen, len(sortedcharset)))\n",
    "\n",
    "\n",
    "generated=''\n",
    "x = np.zeros((20, maxlen, len(sortedcharset))).astype('float32')\n",
    "for t, char in enumerate(sentence):\n",
    "     x[0, t, char_indices[char]] = 1.\n",
    "for i in range(20):\n",
    "    preds = model.predict(x, verbose=0)[0]\n",
    "    next_index = sample(preds, 1.1)\n",
    "    next_char = indices_char[next_index]\n",
    "    generated+=next_char\n",
    "    sentence = sentence[1:]+next_char  \n",
    "\n",
    "print(sentence0)\n",
    "print(\"=================\")\n",
    "print(' '.join(generated))"
   ]
  }
 ],
 "metadata": {
  "kernelspec": {
   "display_name": "Python 3",
   "language": "python",
   "name": "python3"
  },
  "language_info": {
   "codemirror_mode": {
    "name": "ipython",
    "version": 3
   },
   "file_extension": ".py",
   "mimetype": "text/x-python",
   "name": "python",
   "nbconvert_exporter": "python",
   "pygments_lexer": "ipython3",
   "version": "3.6.8"
  },
  "varInspector": {
   "cols": {
    "lenName": 16,
    "lenType": 16,
    "lenVar": 40
   },
   "kernels_config": {
    "python": {
     "delete_cmd_postfix": "",
     "delete_cmd_prefix": "del ",
     "library": "var_list.py",
     "varRefreshCmd": "print(var_dic_list())"
    },
    "r": {
     "delete_cmd_postfix": ") ",
     "delete_cmd_prefix": "rm(",
     "library": "var_list.r",
     "varRefreshCmd": "cat(var_dic_list()) "
    }
   },
   "types_to_exclude": [
    "module",
    "function",
    "builtin_function_or_method",
    "instance",
    "_Feature"
   ],
   "window_display": false
  }
 },
 "nbformat": 4,
 "nbformat_minor": 2
}
